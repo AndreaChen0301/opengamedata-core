{
 "cells": [
  {
   "cell_type": "markdown",
   "metadata": {},
   "source": [
    "### Import Modules, Change Directory, Set Variables"
   ]
  },
  {
   "cell_type": "code",
   "execution_count": 75,
   "metadata": {},
   "outputs": [],
   "source": [
    "import_location = '/Users/johnmccloskey/Desktop/jowilder_data'\n",
    "import_name = '12172019 jowidler assessment 4.tsv'"
   ]
  },
  {
   "cell_type": "code",
   "execution_count": 104,
   "metadata": {},
   "outputs": [],
   "source": [
    "import os\n",
    "import matplotlib.pyplot as plt\n",
    "import pandas as pd\n",
    "# os.chdir('..') # Please comment out after done running this cell. If you go too far up, use the next line.\n",
    "# os.chdir('opengamedata')\n",
    "os.getcwd()\n",
    "from game_info.Jowilder import Jowilder_Enumerators as je\n",
    "from scipy import stats"
   ]
  },
  {
   "cell_type": "markdown",
   "metadata": {},
   "source": [
    "### Import"
   ]
  },
  {
   "cell_type": "code",
   "execution_count": 105,
   "metadata": {},
   "outputs": [
    {
     "name": "stdout",
     "output_type": "stream",
     "text": [
      "(233, 376)\n"
     ]
    },
    {
     "data": {
      "text/html": [
       "<div>\n",
       "<style scoped>\n",
       "    .dataframe tbody tr th:only-of-type {\n",
       "        vertical-align: middle;\n",
       "    }\n",
       "\n",
       "    .dataframe tbody tr th {\n",
       "        vertical-align: top;\n",
       "    }\n",
       "\n",
       "    .dataframe thead th {\n",
       "        text-align: right;\n",
       "    }\n",
       "</style>\n",
       "<table border=\"1\" class=\"dataframe\">\n",
       "  <thead>\n",
       "    <tr style=\"text-align: right;\">\n",
       "      <th></th>\n",
       "      <th>lvl0_EventCount</th>\n",
       "      <th>lvl0_count_clicks</th>\n",
       "      <th>lvl0_count_hovers</th>\n",
       "      <th>lvl0_avgTimePerTextBox</th>\n",
       "      <th>lvl0_time_in_level</th>\n",
       "      <th>lvl0_meaningful_action_count</th>\n",
       "      <th>lvl0_words_per_second</th>\n",
       "      <th>lvl0_count_notebook_uses</th>\n",
       "      <th>lvl0_avg_time_between_clicks</th>\n",
       "      <th>lvl1_EventCount</th>\n",
       "      <th>...</th>\n",
       "      <th>sess_avgTimePerWord</th>\n",
       "      <th>sess_avgTimePerTextBox</th>\n",
       "      <th>sess_stDevTimePerTextBox</th>\n",
       "      <th>sess_words_per_second</th>\n",
       "      <th>sess_count_notebook_uses</th>\n",
       "      <th>sess_avg_time_between_clicks</th>\n",
       "      <th>save_code</th>\n",
       "      <th>music</th>\n",
       "      <th>hq</th>\n",
       "      <th>fullscreen</th>\n",
       "    </tr>\n",
       "    <tr>\n",
       "      <th>sessionID</th>\n",
       "      <th></th>\n",
       "      <th></th>\n",
       "      <th></th>\n",
       "      <th></th>\n",
       "      <th></th>\n",
       "      <th></th>\n",
       "      <th></th>\n",
       "      <th></th>\n",
       "      <th></th>\n",
       "      <th></th>\n",
       "      <th></th>\n",
       "      <th></th>\n",
       "      <th></th>\n",
       "      <th></th>\n",
       "      <th></th>\n",
       "      <th></th>\n",
       "      <th></th>\n",
       "      <th></th>\n",
       "      <th></th>\n",
       "      <th></th>\n",
       "      <th></th>\n",
       "    </tr>\n",
       "  </thead>\n",
       "  <tbody>\n",
       "    <tr>\n",
       "      <th>19110000090781600</th>\n",
       "      <td>34</td>\n",
       "      <td>26.0</td>\n",
       "      <td>6.0</td>\n",
       "      <td>1.672167</td>\n",
       "      <td>63.535</td>\n",
       "      <td>3.0</td>\n",
       "      <td>3.970336</td>\n",
       "      <td>NaN</td>\n",
       "      <td>2.096680</td>\n",
       "      <td>30.0</td>\n",
       "      <td>...</td>\n",
       "      <td>0</td>\n",
       "      <td>16.005742</td>\n",
       "      <td>0</td>\n",
       "      <td>4.125283</td>\n",
       "      <td>8</td>\n",
       "      <td>161.139635</td>\n",
       "      <td>0</td>\n",
       "      <td>1</td>\n",
       "      <td>0</td>\n",
       "      <td>0</td>\n",
       "    </tr>\n",
       "    <tr>\n",
       "      <th>19110009114094480</th>\n",
       "      <td>21</td>\n",
       "      <td>18.0</td>\n",
       "      <td>1.0</td>\n",
       "      <td>1.839250</td>\n",
       "      <td>44.510</td>\n",
       "      <td>1.0</td>\n",
       "      <td>4.523686</td>\n",
       "      <td>NaN</td>\n",
       "      <td>1.195588</td>\n",
       "      <td>27.0</td>\n",
       "      <td>...</td>\n",
       "      <td>0</td>\n",
       "      <td>7.617183</td>\n",
       "      <td>0</td>\n",
       "      <td>4.731634</td>\n",
       "      <td>6</td>\n",
       "      <td>2.034186</td>\n",
       "      <td>donethework</td>\n",
       "      <td>1</td>\n",
       "      <td>0</td>\n",
       "      <td>0</td>\n",
       "    </tr>\n",
       "    <tr>\n",
       "      <th>19110012454548376</th>\n",
       "      <td>43</td>\n",
       "      <td>36.0</td>\n",
       "      <td>5.0</td>\n",
       "      <td>1.545500</td>\n",
       "      <td>73.820</td>\n",
       "      <td>4.0</td>\n",
       "      <td>6.184182</td>\n",
       "      <td>NaN</td>\n",
       "      <td>1.584343</td>\n",
       "      <td>114.0</td>\n",
       "      <td>...</td>\n",
       "      <td>0</td>\n",
       "      <td>7.371897</td>\n",
       "      <td>0</td>\n",
       "      <td>7.551905</td>\n",
       "      <td>11</td>\n",
       "      <td>1.610426</td>\n",
       "      <td>0</td>\n",
       "      <td>1</td>\n",
       "      <td>1</td>\n",
       "      <td>True</td>\n",
       "    </tr>\n",
       "    <tr>\n",
       "      <th>19110013234266620</th>\n",
       "      <td>2</td>\n",
       "      <td>NaN</td>\n",
       "      <td>NaN</td>\n",
       "      <td>NaN</td>\n",
       "      <td>0.002</td>\n",
       "      <td>NaN</td>\n",
       "      <td>NaN</td>\n",
       "      <td>NaN</td>\n",
       "      <td>NaN</td>\n",
       "      <td>NaN</td>\n",
       "      <td>...</td>\n",
       "      <td>0</td>\n",
       "      <td>4.979176</td>\n",
       "      <td>0</td>\n",
       "      <td>9.855149</td>\n",
       "      <td>6</td>\n",
       "      <td>1.309599</td>\n",
       "      <td>0</td>\n",
       "      <td>1</td>\n",
       "      <td>0</td>\n",
       "      <td>0</td>\n",
       "    </tr>\n",
       "    <tr>\n",
       "      <th>19110014392453668</th>\n",
       "      <td>2</td>\n",
       "      <td>NaN</td>\n",
       "      <td>NaN</td>\n",
       "      <td>NaN</td>\n",
       "      <td>0.002</td>\n",
       "      <td>NaN</td>\n",
       "      <td>NaN</td>\n",
       "      <td>NaN</td>\n",
       "      <td>NaN</td>\n",
       "      <td>NaN</td>\n",
       "      <td>...</td>\n",
       "      <td>0</td>\n",
       "      <td>6.194067</td>\n",
       "      <td>0</td>\n",
       "      <td>6.349095</td>\n",
       "      <td>1</td>\n",
       "      <td>1.576921</td>\n",
       "      <td>0</td>\n",
       "      <td>1</td>\n",
       "      <td>0</td>\n",
       "      <td>0</td>\n",
       "    </tr>\n",
       "  </tbody>\n",
       "</table>\n",
       "<p>5 rows × 376 columns</p>\n",
       "</div>"
      ],
      "text/plain": [
       "                   lvl0_EventCount  lvl0_count_clicks  lvl0_count_hovers  \\\n",
       "sessionID                                                                  \n",
       "19110000090781600               34               26.0                6.0   \n",
       "19110009114094480               21               18.0                1.0   \n",
       "19110012454548376               43               36.0                5.0   \n",
       "19110013234266620                2                NaN                NaN   \n",
       "19110014392453668                2                NaN                NaN   \n",
       "\n",
       "                   lvl0_avgTimePerTextBox  lvl0_time_in_level  \\\n",
       "sessionID                                                       \n",
       "19110000090781600                1.672167              63.535   \n",
       "19110009114094480                1.839250              44.510   \n",
       "19110012454548376                1.545500              73.820   \n",
       "19110013234266620                     NaN               0.002   \n",
       "19110014392453668                     NaN               0.002   \n",
       "\n",
       "                   lvl0_meaningful_action_count  lvl0_words_per_second  \\\n",
       "sessionID                                                                \n",
       "19110000090781600                           3.0               3.970336   \n",
       "19110009114094480                           1.0               4.523686   \n",
       "19110012454548376                           4.0               6.184182   \n",
       "19110013234266620                           NaN                    NaN   \n",
       "19110014392453668                           NaN                    NaN   \n",
       "\n",
       "                   lvl0_count_notebook_uses  lvl0_avg_time_between_clicks  \\\n",
       "sessionID                                                                   \n",
       "19110000090781600                       NaN                      2.096680   \n",
       "19110009114094480                       NaN                      1.195588   \n",
       "19110012454548376                       NaN                      1.584343   \n",
       "19110013234266620                       NaN                           NaN   \n",
       "19110014392453668                       NaN                           NaN   \n",
       "\n",
       "                   lvl1_EventCount  ...  sess_avgTimePerWord  \\\n",
       "sessionID                           ...                        \n",
       "19110000090781600             30.0  ...                    0   \n",
       "19110009114094480             27.0  ...                    0   \n",
       "19110012454548376            114.0  ...                    0   \n",
       "19110013234266620              NaN  ...                    0   \n",
       "19110014392453668              NaN  ...                    0   \n",
       "\n",
       "                   sess_avgTimePerTextBox  sess_stDevTimePerTextBox  \\\n",
       "sessionID                                                             \n",
       "19110000090781600               16.005742                         0   \n",
       "19110009114094480                7.617183                         0   \n",
       "19110012454548376                7.371897                         0   \n",
       "19110013234266620                4.979176                         0   \n",
       "19110014392453668                6.194067                         0   \n",
       "\n",
       "                   sess_words_per_second  sess_count_notebook_uses  \\\n",
       "sessionID                                                            \n",
       "19110000090781600               4.125283                         8   \n",
       "19110009114094480               4.731634                         6   \n",
       "19110012454548376               7.551905                        11   \n",
       "19110013234266620               9.855149                         6   \n",
       "19110014392453668               6.349095                         1   \n",
       "\n",
       "                   sess_avg_time_between_clicks    save_code  music  hq  \\\n",
       "sessionID                                                                 \n",
       "19110000090781600                    161.139635            0      1   0   \n",
       "19110009114094480                      2.034186  donethework      1   0   \n",
       "19110012454548376                      1.610426            0      1   1   \n",
       "19110013234266620                      1.309599            0      1   0   \n",
       "19110014392453668                      1.576921            0      1   0   \n",
       "\n",
       "                   fullscreen  \n",
       "sessionID                      \n",
       "19110000090781600           0  \n",
       "19110009114094480           0  \n",
       "19110012454548376        True  \n",
       "19110013234266620           0  \n",
       "19110014392453668           0  \n",
       "\n",
       "[5 rows x 376 columns]"
      ]
     },
     "execution_count": 105,
     "metadata": {},
     "output_type": "execute_result"
    }
   ],
   "source": [
    "df = pd.read_csv(os.path.join(import_location,import_name), sep='\\t',index_col='sessionID')\n",
    "print(df.shape)\n",
    "df.head()"
   ]
  },
  {
   "cell_type": "markdown",
   "metadata": {},
   "source": [
    "### Drop Rows with save_codes (continues) or not all wps's"
   ]
  },
  {
   "cell_type": "code",
   "execution_count": 106,
   "metadata": {
    "scrolled": true
   },
   "outputs": [
    {
     "name": "stdout",
     "output_type": "stream",
     "text": [
      "(118, 376)\n"
     ]
    },
    {
     "data": {
      "text/html": [
       "<div>\n",
       "<style scoped>\n",
       "    .dataframe tbody tr th:only-of-type {\n",
       "        vertical-align: middle;\n",
       "    }\n",
       "\n",
       "    .dataframe tbody tr th {\n",
       "        vertical-align: top;\n",
       "    }\n",
       "\n",
       "    .dataframe thead th {\n",
       "        text-align: right;\n",
       "    }\n",
       "</style>\n",
       "<table border=\"1\" class=\"dataframe\">\n",
       "  <thead>\n",
       "    <tr style=\"text-align: right;\">\n",
       "      <th></th>\n",
       "      <th>lvl0_EventCount</th>\n",
       "      <th>lvl0_count_clicks</th>\n",
       "      <th>lvl0_count_hovers</th>\n",
       "      <th>lvl0_avgTimePerTextBox</th>\n",
       "      <th>lvl0_time_in_level</th>\n",
       "      <th>lvl0_meaningful_action_count</th>\n",
       "      <th>lvl0_words_per_second</th>\n",
       "      <th>lvl0_count_notebook_uses</th>\n",
       "      <th>lvl0_avg_time_between_clicks</th>\n",
       "      <th>lvl1_EventCount</th>\n",
       "      <th>...</th>\n",
       "      <th>sess_avgTimePerWord</th>\n",
       "      <th>sess_avgTimePerTextBox</th>\n",
       "      <th>sess_stDevTimePerTextBox</th>\n",
       "      <th>sess_words_per_second</th>\n",
       "      <th>sess_count_notebook_uses</th>\n",
       "      <th>sess_avg_time_between_clicks</th>\n",
       "      <th>save_code</th>\n",
       "      <th>music</th>\n",
       "      <th>hq</th>\n",
       "      <th>fullscreen</th>\n",
       "    </tr>\n",
       "    <tr>\n",
       "      <th>sessionID</th>\n",
       "      <th></th>\n",
       "      <th></th>\n",
       "      <th></th>\n",
       "      <th></th>\n",
       "      <th></th>\n",
       "      <th></th>\n",
       "      <th></th>\n",
       "      <th></th>\n",
       "      <th></th>\n",
       "      <th></th>\n",
       "      <th></th>\n",
       "      <th></th>\n",
       "      <th></th>\n",
       "      <th></th>\n",
       "      <th></th>\n",
       "      <th></th>\n",
       "      <th></th>\n",
       "      <th></th>\n",
       "      <th></th>\n",
       "      <th></th>\n",
       "      <th></th>\n",
       "    </tr>\n",
       "  </thead>\n",
       "  <tbody>\n",
       "    <tr>\n",
       "      <th>19110000090781600</th>\n",
       "      <td>34</td>\n",
       "      <td>26.0</td>\n",
       "      <td>6.0</td>\n",
       "      <td>1.672167</td>\n",
       "      <td>63.535</td>\n",
       "      <td>3.0</td>\n",
       "      <td>3.970336</td>\n",
       "      <td>NaN</td>\n",
       "      <td>2.096680</td>\n",
       "      <td>30.0</td>\n",
       "      <td>...</td>\n",
       "      <td>0</td>\n",
       "      <td>16.005742</td>\n",
       "      <td>0</td>\n",
       "      <td>4.125283</td>\n",
       "      <td>8</td>\n",
       "      <td>161.139635</td>\n",
       "      <td>0</td>\n",
       "      <td>1</td>\n",
       "      <td>0</td>\n",
       "      <td>0</td>\n",
       "    </tr>\n",
       "    <tr>\n",
       "      <th>19110012454548376</th>\n",
       "      <td>43</td>\n",
       "      <td>36.0</td>\n",
       "      <td>5.0</td>\n",
       "      <td>1.545500</td>\n",
       "      <td>73.820</td>\n",
       "      <td>4.0</td>\n",
       "      <td>6.184182</td>\n",
       "      <td>NaN</td>\n",
       "      <td>1.584343</td>\n",
       "      <td>114.0</td>\n",
       "      <td>...</td>\n",
       "      <td>0</td>\n",
       "      <td>7.371897</td>\n",
       "      <td>0</td>\n",
       "      <td>7.551905</td>\n",
       "      <td>11</td>\n",
       "      <td>1.610426</td>\n",
       "      <td>0</td>\n",
       "      <td>1</td>\n",
       "      <td>1</td>\n",
       "      <td>True</td>\n",
       "    </tr>\n",
       "    <tr>\n",
       "      <th>19110016345644932</th>\n",
       "      <td>40</td>\n",
       "      <td>28.0</td>\n",
       "      <td>10.0</td>\n",
       "      <td>1.154714</td>\n",
       "      <td>200.637</td>\n",
       "      <td>4.0</td>\n",
       "      <td>5.354636</td>\n",
       "      <td>NaN</td>\n",
       "      <td>1.410185</td>\n",
       "      <td>34.0</td>\n",
       "      <td>...</td>\n",
       "      <td>0</td>\n",
       "      <td>5.708855</td>\n",
       "      <td>0</td>\n",
       "      <td>6.087589</td>\n",
       "      <td>2</td>\n",
       "      <td>2.864502</td>\n",
       "      <td>0</td>\n",
       "      <td>1</td>\n",
       "      <td>0</td>\n",
       "      <td>0</td>\n",
       "    </tr>\n",
       "    <tr>\n",
       "      <th>19110017043011900</th>\n",
       "      <td>32</td>\n",
       "      <td>28.0</td>\n",
       "      <td>2.0</td>\n",
       "      <td>1.618800</td>\n",
       "      <td>39.079</td>\n",
       "      <td>2.0</td>\n",
       "      <td>4.725599</td>\n",
       "      <td>NaN</td>\n",
       "      <td>0.937926</td>\n",
       "      <td>58.0</td>\n",
       "      <td>...</td>\n",
       "      <td>0</td>\n",
       "      <td>6.506622</td>\n",
       "      <td>0</td>\n",
       "      <td>10.958594</td>\n",
       "      <td>1</td>\n",
       "      <td>0.900201</td>\n",
       "      <td>0</td>\n",
       "      <td>1</td>\n",
       "      <td>0</td>\n",
       "      <td>0</td>\n",
       "    </tr>\n",
       "    <tr>\n",
       "      <th>19110017124036790</th>\n",
       "      <td>40</td>\n",
       "      <td>30.0</td>\n",
       "      <td>8.0</td>\n",
       "      <td>2.739200</td>\n",
       "      <td>40.764</td>\n",
       "      <td>2.0</td>\n",
       "      <td>4.006595</td>\n",
       "      <td>NaN</td>\n",
       "      <td>1.153345</td>\n",
       "      <td>32.0</td>\n",
       "      <td>...</td>\n",
       "      <td>0</td>\n",
       "      <td>6.677494</td>\n",
       "      <td>0</td>\n",
       "      <td>6.231409</td>\n",
       "      <td>3</td>\n",
       "      <td>1.298599</td>\n",
       "      <td>0</td>\n",
       "      <td>1</td>\n",
       "      <td>0</td>\n",
       "      <td>0</td>\n",
       "    </tr>\n",
       "  </tbody>\n",
       "</table>\n",
       "<p>5 rows × 376 columns</p>\n",
       "</div>"
      ],
      "text/plain": [
       "                   lvl0_EventCount  lvl0_count_clicks  lvl0_count_hovers  \\\n",
       "sessionID                                                                  \n",
       "19110000090781600               34               26.0                6.0   \n",
       "19110012454548376               43               36.0                5.0   \n",
       "19110016345644932               40               28.0               10.0   \n",
       "19110017043011900               32               28.0                2.0   \n",
       "19110017124036790               40               30.0                8.0   \n",
       "\n",
       "                   lvl0_avgTimePerTextBox  lvl0_time_in_level  \\\n",
       "sessionID                                                       \n",
       "19110000090781600                1.672167              63.535   \n",
       "19110012454548376                1.545500              73.820   \n",
       "19110016345644932                1.154714             200.637   \n",
       "19110017043011900                1.618800              39.079   \n",
       "19110017124036790                2.739200              40.764   \n",
       "\n",
       "                   lvl0_meaningful_action_count  lvl0_words_per_second  \\\n",
       "sessionID                                                                \n",
       "19110000090781600                           3.0               3.970336   \n",
       "19110012454548376                           4.0               6.184182   \n",
       "19110016345644932                           4.0               5.354636   \n",
       "19110017043011900                           2.0               4.725599   \n",
       "19110017124036790                           2.0               4.006595   \n",
       "\n",
       "                   lvl0_count_notebook_uses  lvl0_avg_time_between_clicks  \\\n",
       "sessionID                                                                   \n",
       "19110000090781600                       NaN                      2.096680   \n",
       "19110012454548376                       NaN                      1.584343   \n",
       "19110016345644932                       NaN                      1.410185   \n",
       "19110017043011900                       NaN                      0.937926   \n",
       "19110017124036790                       NaN                      1.153345   \n",
       "\n",
       "                   lvl1_EventCount  ...  sess_avgTimePerWord  \\\n",
       "sessionID                           ...                        \n",
       "19110000090781600             30.0  ...                    0   \n",
       "19110012454548376            114.0  ...                    0   \n",
       "19110016345644932             34.0  ...                    0   \n",
       "19110017043011900             58.0  ...                    0   \n",
       "19110017124036790             32.0  ...                    0   \n",
       "\n",
       "                   sess_avgTimePerTextBox  sess_stDevTimePerTextBox  \\\n",
       "sessionID                                                             \n",
       "19110000090781600               16.005742                         0   \n",
       "19110012454548376                7.371897                         0   \n",
       "19110016345644932                5.708855                         0   \n",
       "19110017043011900                6.506622                         0   \n",
       "19110017124036790                6.677494                         0   \n",
       "\n",
       "                   sess_words_per_second  sess_count_notebook_uses  \\\n",
       "sessionID                                                            \n",
       "19110000090781600               4.125283                         8   \n",
       "19110012454548376               7.551905                        11   \n",
       "19110016345644932               6.087589                         2   \n",
       "19110017043011900              10.958594                         1   \n",
       "19110017124036790               6.231409                         3   \n",
       "\n",
       "                   sess_avg_time_between_clicks  save_code  music  hq  \\\n",
       "sessionID                                                               \n",
       "19110000090781600                    161.139635          0      1   0   \n",
       "19110012454548376                      1.610426          0      1   1   \n",
       "19110016345644932                      2.864502          0      1   0   \n",
       "19110017043011900                      0.900201          0      1   0   \n",
       "19110017124036790                      1.298599          0      1   0   \n",
       "\n",
       "                   fullscreen  \n",
       "sessionID                      \n",
       "19110000090781600           0  \n",
       "19110012454548376        True  \n",
       "19110016345644932           0  \n",
       "19110017043011900           0  \n",
       "19110017124036790           0  \n",
       "\n",
       "[5 rows x 376 columns]"
      ]
     },
     "execution_count": 106,
     "metadata": {},
     "output_type": "execute_result"
    }
   ],
   "source": [
    "df = df.drop(df[df['save_code'] != '0'].index)\n",
    "lvls = range(19)\n",
    "wps_col_names = [f'lvl{lvl}_words_per_second' for lvl in lvls]\n",
    "df = df.dropna(subset=wps_col_names)\n",
    "print(df.shape)\n",
    "df.head()"
   ]
  },
  {
   "cell_type": "code",
   "execution_count": 126,
   "metadata": {
    "scrolled": false
   },
   "outputs": [
    {
     "name": "stdout",
     "output_type": "stream",
     "text": [
      "lvl0_words_per_second\n"
     ]
    },
    {
     "data": {
      "image/png": "[encoded data removed]",
      "text/plain": [
       "<Figure size 432x288 with 1 Axes>"
      ]
     },
     "metadata": {
      "needs_background": "light"
     },
     "output_type": "display_data"
    },
    {
     "name": "stdout",
     "output_type": "stream",
     "text": [
      "lvl1_words_per_second\n"
     ]
    },
    {
     "data": {
      "image/png": "[encoded data removed]",
      "text/plain": [
       "<Figure size 432x288 with 1 Axes>"
      ]
     },
     "metadata": {
      "needs_background": "light"
     },
     "output_type": "display_data"
    },
    {
     "name": "stdout",
     "output_type": "stream",
     "text": [
      "lvl2_words_per_second\n"
     ]
    },
    {
     "data": {
      "image/png": "[encoded data removed]",
      "text/plain": [
       "<Figure size 432x288 with 1 Axes>"
      ]
     },
     "metadata": {
      "needs_background": "light"
     },
     "output_type": "display_data"
    },
    {
     "name": "stdout",
     "output_type": "stream",
     "text": [
      "lvl3_words_per_second\n"
     ]
    },
    {
     "data": {
      "image/png": "[encoded data removed]",
      "text/plain": [
       "<Figure size 432x288 with 1 Axes>"
      ]
     },
     "metadata": {
      "needs_background": "light"
     },
     "output_type": "display_data"
    },
    {
     "name": "stdout",
     "output_type": "stream",
     "text": [
      "lvl4_words_per_second\n"
     ]
    },
    {
     "data": {
      "image/png": "[encoded data removed]",
      "text/plain": [
       "<Figure size 432x288 with 1 Axes>"
      ]
     },
     "metadata": {
      "needs_background": "light"
     },
     "output_type": "display_data"
    },
    {
     "name": "stdout",
     "output_type": "stream",
     "text": [
      "lvl5_words_per_second\n"
     ]
    },
    {
     "data": {
      "image/png": "[encoded data removed]",
      "text/plain": [
       "<Figure size 432x288 with 1 Axes>"
      ]
     },
     "metadata": {
      "needs_background": "light"
     },
     "output_type": "display_data"
    },
    {
     "name": "stdout",
     "output_type": "stream",
     "text": [
      "lvl6_words_per_second\n"
     ]
    },
    {
     "data": {
      "image/png": "[encoded data removed]",
      "text/plain": [
       "<Figure size 432x288 with 1 Axes>"
      ]
     },
     "metadata": {
      "needs_background": "light"
     },
     "output_type": "display_data"
    },
    {
     "name": "stdout",
     "output_type": "stream",
     "text": [
      "lvl7_words_per_second\n"
     ]
    },
    {
     "data": {
      "image/png": "[encoded data removed]",
      "text/plain": [
       "<Figure size 432x288 with 1 Axes>"
      ]
     },
     "metadata": {
      "needs_background": "light"
     },
     "output_type": "display_data"
    },
    {
     "name": "stdout",
     "output_type": "stream",
     "text": [
      "lvl8_words_per_second\n"
     ]
    },
    {
     "data": {
      "image/png": "[encoded data removed]",
      "text/plain": [
       "<Figure size 432x288 with 1 Axes>"
      ]
     },
     "metadata": {
      "needs_background": "light"
     },
     "output_type": "display_data"
    },
    {
     "name": "stdout",
     "output_type": "stream",
     "text": [
      "lvl9_words_per_second\n"
     ]
    },
    {
     "data": {
      "image/png": "[encoded data removed]",
      "text/plain": [
       "<Figure size 432x288 with 1 Axes>"
      ]
     },
     "metadata": {
      "needs_background": "light"
     },
     "output_type": "display_data"
    },
    {
     "name": "stdout",
     "output_type": "stream",
     "text": [
      "lvl10_words_per_second\n"
     ]
    },
    {
     "data": {
      "image/png": "[encoded data removed]",
      "text/plain": [
       "<Figure size 432x288 with 1 Axes>"
      ]
     },
     "metadata": {
      "needs_background": "light"
     },
     "output_type": "display_data"
    },
    {
     "name": "stdout",
     "output_type": "stream",
     "text": [
      "lvl11_words_per_second\n"
     ]
    },
    {
     "data": {
      "image/png": "[encoded data removed]",
      "text/plain": [
       "<Figure size 432x288 with 1 Axes>"
      ]
     },
     "metadata": {
      "needs_background": "light"
     },
     "output_type": "display_data"
    },
    {
     "name": "stdout",
     "output_type": "stream",
     "text": [
      "lvl12_words_per_second\n"
     ]
    },
    {
     "data": {
      "image/png": "[encoded data removed]",
      "text/plain": [
       "<Figure size 432x288 with 1 Axes>"
      ]
     },
     "metadata": {
      "needs_background": "light"
     },
     "output_type": "display_data"
    },
    {
     "name": "stdout",
     "output_type": "stream",
     "text": [
      "lvl13_words_per_second\n"
     ]
    },
    {
     "data": {
      "image/png": "[encoded data removed]",
      "text/plain": [
       "<Figure size 432x288 with 1 Axes>"
      ]
     },
     "metadata": {
      "needs_background": "light"
     },
     "output_type": "display_data"
    },
    {
     "name": "stdout",
     "output_type": "stream",
     "text": [
      "lvl14_words_per_second\n"
     ]
    },
    {
     "data": {
      "image/png": "[encoded data removed]",
      "text/plain": [
       "<Figure size 432x288 with 1 Axes>"
      ]
     },
     "metadata": {
      "needs_background": "light"
     },
     "output_type": "display_data"
    },
    {
     "name": "stdout",
     "output_type": "stream",
     "text": [
      "lvl15_words_per_second\n"
     ]
    },
    {
     "data": {
      "image/png": "[encoded data removed]",
      "text/plain": [
       "<Figure size 432x288 with 1 Axes>"
      ]
     },
     "metadata": {
      "needs_background": "light"
     },
     "output_type": "display_data"
    },
    {
     "name": "stdout",
     "output_type": "stream",
     "text": [
      "lvl16_words_per_second\n"
     ]
    },
    {
     "data": {
      "image/png": "[encoded data removed]",
      "text/plain": [
       "<Figure size 432x288 with 1 Axes>"
      ]
     },
     "metadata": {
      "needs_background": "light"
     },
     "output_type": "display_data"
    },
    {
     "name": "stdout",
     "output_type": "stream",
     "text": [
      "lvl17_words_per_second\n"
     ]
    },
    {
     "data": {
      "image/png": "[encoded data removed]",
      "text/plain": [
       "<Figure size 432x288 with 1 Axes>"
      ]
     },
     "metadata": {
      "needs_background": "light"
     },
     "output_type": "display_data"
    },
    {
     "name": "stdout",
     "output_type": "stream",
     "text": [
      "lvl18_words_per_second\n"
     ]
    },
    {
     "data": {
      "image/png": "[encoded data removed]",
      "text/plain": [
       "<Figure size 432x288 with 1 Axes>"
      ]
     },
     "metadata": {
      "needs_background": "light"
     },
     "output_type": "display_data"
    }
   ],
   "source": [
    "def get_histogram_level_feat(fname_base, lvl):\n",
    "    fname = f'lvl{lvl}_{fname_base}'\n",
    "    wps_df = df[[fname]]\n",
    "    wps_df_no_outliers = wps_df[(np.abs(stats.zscore(wps_df)) < 3).all(axis=1)]\n",
    "    wps = list((wps_df_no_outliers)[fname])\n",
    "    plt.hist(wps, bins=30)\n",
    "    print(fname)\n",
    "    plt.show()\n",
    "for i in range(19):\n",
    "    get_histogram_level_feat('words_per_second',i)"
   ]
  },
  {
   "cell_type": "code",
   "execution_count": null,
   "metadata": {},
   "outputs": [],
   "source": []
  },
  {
   "cell_type": "code",
   "execution_count": null,
   "metadata": {},
   "outputs": [],
   "source": []
  },
  {
   "cell_type": "code",
   "execution_count": null,
   "metadata": {},
   "outputs": [],
   "source": []
  }
 ],
 "metadata": {
  "kernelspec": {
   "display_name": "Python 3",
   "language": "python",
   "name": "python3"
  },
  "language_info": {
   "codemirror_mode": {
    "name": "ipython",
    "version": 3
   },
   "file_extension": ".py",
   "mimetype": "text/x-python",
   "name": "python",
   "nbconvert_exporter": "python",
   "pygments_lexer": "ipython3",
   "version": "3.7.3"
  }
 },
 "nbformat": 4,
 "nbformat_minor": 2
}
